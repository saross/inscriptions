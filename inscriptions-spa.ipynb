{
 "cells": [
  {
   "cell_type": "markdown",
   "id": "8dad1030-a1a4-4475-a2b4-d844cebdc602",
   "metadata": {},
   "source": [
    "*ChatGPT-4 used throughout to generate code snippets*"
   ]
  },
  {
   "cell_type": "markdown",
   "id": "1f60cd32-d760-4749-936b-833ef8d8f7cd",
   "metadata": {},
   "source": [
    "# Setup"
   ]
  },
  {
   "cell_type": "markdown",
   "id": "1799f33b-81f6-4e78-88e2-d68d2d417dca",
   "metadata": {},
   "source": [
    "## Install libraries\n",
    "\n",
    "geopandas, fastparquet, numpy"
   ]
  },
  {
   "cell_type": "code",
   "execution_count": 1,
   "id": "9849fcaf-00e4-4382-93d5-1ec9f6c9bcb6",
   "metadata": {},
   "outputs": [
    {
     "name": "stdout",
     "output_type": "stream",
     "text": [
      "Requirement already satisfied: geopandas in /home/shawn/anaconda3/lib/python3.11/site-packages (0.13.2)\n",
      "Requirement already satisfied: fiona>=1.8.19 in /home/shawn/anaconda3/lib/python3.11/site-packages (from geopandas) (1.9.4.post1)\n",
      "Requirement already satisfied: packaging in /home/shawn/anaconda3/lib/python3.11/site-packages (from geopandas) (23.0)\n",
      "Requirement already satisfied: pandas>=1.1.0 in /home/shawn/anaconda3/lib/python3.11/site-packages (from geopandas) (1.5.3)\n",
      "Requirement already satisfied: pyproj>=3.0.1 in /home/shawn/anaconda3/lib/python3.11/site-packages (from geopandas) (3.6.0)\n",
      "Requirement already satisfied: shapely>=1.7.1 in /home/shawn/anaconda3/lib/python3.11/site-packages (from geopandas) (2.0.1)\n",
      "Requirement already satisfied: attrs>=19.2.0 in /home/shawn/anaconda3/lib/python3.11/site-packages (from fiona>=1.8.19->geopandas) (22.1.0)\n",
      "Requirement already satisfied: certifi in /home/shawn/anaconda3/lib/python3.11/site-packages (from fiona>=1.8.19->geopandas) (2023.7.22)\n",
      "Requirement already satisfied: click~=8.0 in /home/shawn/anaconda3/lib/python3.11/site-packages (from fiona>=1.8.19->geopandas) (8.0.4)\n",
      "Requirement already satisfied: click-plugins>=1.0 in /home/shawn/anaconda3/lib/python3.11/site-packages (from fiona>=1.8.19->geopandas) (1.1.1)\n",
      "Requirement already satisfied: cligj>=0.5 in /home/shawn/anaconda3/lib/python3.11/site-packages (from fiona>=1.8.19->geopandas) (0.7.2)\n",
      "Requirement already satisfied: six in /home/shawn/anaconda3/lib/python3.11/site-packages (from fiona>=1.8.19->geopandas) (1.16.0)\n",
      "Requirement already satisfied: python-dateutil>=2.8.1 in /home/shawn/anaconda3/lib/python3.11/site-packages (from pandas>=1.1.0->geopandas) (2.8.2)\n",
      "Requirement already satisfied: pytz>=2020.1 in /home/shawn/anaconda3/lib/python3.11/site-packages (from pandas>=1.1.0->geopandas) (2022.7)\n",
      "Requirement already satisfied: numpy>=1.21.0 in /home/shawn/anaconda3/lib/python3.11/site-packages (from pandas>=1.1.0->geopandas) (1.24.3)\n",
      "Requirement already satisfied: fastparquet in /home/shawn/anaconda3/lib/python3.11/site-packages (2023.7.0)\n",
      "Requirement already satisfied: pandas>=1.5.0 in /home/shawn/anaconda3/lib/python3.11/site-packages (from fastparquet) (1.5.3)\n",
      "Requirement already satisfied: numpy>=1.20.3 in /home/shawn/anaconda3/lib/python3.11/site-packages (from fastparquet) (1.24.3)\n",
      "Requirement already satisfied: cramjam>=2.3 in /home/shawn/anaconda3/lib/python3.11/site-packages (from fastparquet) (2.7.0)\n",
      "Requirement already satisfied: fsspec in /home/shawn/anaconda3/lib/python3.11/site-packages (from fastparquet) (2023.4.0)\n",
      "Requirement already satisfied: packaging in /home/shawn/anaconda3/lib/python3.11/site-packages (from fastparquet) (23.0)\n",
      "Requirement already satisfied: python-dateutil>=2.8.1 in /home/shawn/anaconda3/lib/python3.11/site-packages (from pandas>=1.5.0->fastparquet) (2.8.2)\n",
      "Requirement already satisfied: pytz>=2020.1 in /home/shawn/anaconda3/lib/python3.11/site-packages (from pandas>=1.5.0->fastparquet) (2022.7)\n",
      "Requirement already satisfied: six>=1.5 in /home/shawn/anaconda3/lib/python3.11/site-packages (from python-dateutil>=2.8.1->pandas>=1.5.0->fastparquet) (1.16.0)\n",
      "Requirement already satisfied: numpy in /home/shawn/anaconda3/lib/python3.11/site-packages (1.24.3)\n",
      "Requirement already satisfied: matplotlib in /home/shawn/anaconda3/lib/python3.11/site-packages (3.7.1)\n",
      "Requirement already satisfied: contourpy>=1.0.1 in /home/shawn/anaconda3/lib/python3.11/site-packages (from matplotlib) (1.0.5)\n",
      "Requirement already satisfied: cycler>=0.10 in /home/shawn/anaconda3/lib/python3.11/site-packages (from matplotlib) (0.11.0)\n",
      "Requirement already satisfied: fonttools>=4.22.0 in /home/shawn/anaconda3/lib/python3.11/site-packages (from matplotlib) (4.25.0)\n",
      "Requirement already satisfied: kiwisolver>=1.0.1 in /home/shawn/anaconda3/lib/python3.11/site-packages (from matplotlib) (1.4.4)\n",
      "Requirement already satisfied: numpy>=1.20 in /home/shawn/anaconda3/lib/python3.11/site-packages (from matplotlib) (1.24.3)\n",
      "Requirement already satisfied: packaging>=20.0 in /home/shawn/anaconda3/lib/python3.11/site-packages (from matplotlib) (23.0)\n",
      "Requirement already satisfied: pillow>=6.2.0 in /home/shawn/anaconda3/lib/python3.11/site-packages (from matplotlib) (9.4.0)\n",
      "Requirement already satisfied: pyparsing>=2.3.1 in /home/shawn/anaconda3/lib/python3.11/site-packages (from matplotlib) (3.0.9)\n",
      "Requirement already satisfied: python-dateutil>=2.7 in /home/shawn/anaconda3/lib/python3.11/site-packages (from matplotlib) (2.8.2)\n",
      "Requirement already satisfied: six>=1.5 in /home/shawn/anaconda3/lib/python3.11/site-packages (from python-dateutil>=2.7->matplotlib) (1.16.0)\n",
      "Requirement already satisfied: tempun in /home/shawn/anaconda3/lib/python3.11/site-packages (0.2.2)\n",
      "Requirement already satisfied: pandas in /home/shawn/anaconda3/lib/python3.11/site-packages (from tempun) (1.5.3)\n",
      "Requirement already satisfied: numpy in /home/shawn/anaconda3/lib/python3.11/site-packages (from tempun) (1.24.3)\n",
      "Requirement already satisfied: scipy in /home/shawn/anaconda3/lib/python3.11/site-packages (from tempun) (1.10.1)\n",
      "Requirement already satisfied: matplotlib in /home/shawn/anaconda3/lib/python3.11/site-packages (from tempun) (3.7.1)\n",
      "Requirement already satisfied: contourpy>=1.0.1 in /home/shawn/anaconda3/lib/python3.11/site-packages (from matplotlib->tempun) (1.0.5)\n",
      "Requirement already satisfied: cycler>=0.10 in /home/shawn/anaconda3/lib/python3.11/site-packages (from matplotlib->tempun) (0.11.0)\n",
      "Requirement already satisfied: fonttools>=4.22.0 in /home/shawn/anaconda3/lib/python3.11/site-packages (from matplotlib->tempun) (4.25.0)\n",
      "Requirement already satisfied: kiwisolver>=1.0.1 in /home/shawn/anaconda3/lib/python3.11/site-packages (from matplotlib->tempun) (1.4.4)\n",
      "Requirement already satisfied: packaging>=20.0 in /home/shawn/anaconda3/lib/python3.11/site-packages (from matplotlib->tempun) (23.0)\n",
      "Requirement already satisfied: pillow>=6.2.0 in /home/shawn/anaconda3/lib/python3.11/site-packages (from matplotlib->tempun) (9.4.0)\n",
      "Requirement already satisfied: pyparsing>=2.3.1 in /home/shawn/anaconda3/lib/python3.11/site-packages (from matplotlib->tempun) (3.0.9)\n",
      "Requirement already satisfied: python-dateutil>=2.7 in /home/shawn/anaconda3/lib/python3.11/site-packages (from matplotlib->tempun) (2.8.2)\n",
      "Requirement already satisfied: pytz>=2020.1 in /home/shawn/anaconda3/lib/python3.11/site-packages (from pandas->tempun) (2022.7)\n",
      "Requirement already satisfied: six>=1.5 in /home/shawn/anaconda3/lib/python3.11/site-packages (from python-dateutil>=2.7->matplotlib->tempun) (1.16.0)\n"
     ]
    }
   ],
   "source": [
    "# in jupyter notebooks, normal install using !pip install doesn't work, use the solution from:\n",
    "# https://www.geeksforgeeks.org/install-python-package-using-jupyter-notebook/\n",
    "\n",
    "import sys\n",
    "!{sys.executable} -m pip install geopandas\n",
    "!{sys.executable} -m pip install fastparquet\n",
    "!{sys.executable} -m pip install numpy\n",
    "!{sys.executable} -m pip install matplotlib\n",
    "!{sys.executable} -m pip install tempun"
   ]
  },
  {
   "cell_type": "code",
   "execution_count": 2,
   "id": "67bc95b8-b28f-4feb-a48e-2ccc3edad2ec",
   "metadata": {},
   "outputs": [],
   "source": [
    "import geopandas as gpd\n",
    "import numpy as np\n",
    "import matplotlib.pyplot as plt\n",
    "import fastparquet\n",
    "import tempun"
   ]
  },
  {
   "cell_type": "markdown",
   "id": "1abf5df7-697e-4c3c-9886-ff16fca504e9",
   "metadata": {},
   "source": [
    "## Import LIRE_v2.3 dataset \n",
    "\n",
    "**Source**: https://zenodo.org/record/8147298\n",
    "\n",
    "**Format**: parquet"
   ]
  },
  {
   "cell_type": "code",
   "execution_count": 3,
   "id": "4d21834c-d8f9-4d11-bcdd-ef64baf5e0cc",
   "metadata": {},
   "outputs": [],
   "source": [
    "lire = gpd.read_parquet('data/LIRE_v2-3.parquet')"
   ]
  },
  {
   "cell_type": "markdown",
   "id": "7c5b156d-4233-4168-9770-a8014ac5fb74",
   "metadata": {},
   "source": [
    "### Display first five rows of LIRE dataset"
   ]
  },
  {
   "cell_type": "code",
   "execution_count": 4,
   "id": "5823a26c-2bdb-4bdd-ba9e-d70a033cb36a",
   "metadata": {},
   "outputs": [
    {
     "data": {
      "text/html": [
       "<div>\n",
       "<style scoped>\n",
       "    .dataframe tbody tr th:only-of-type {\n",
       "        vertical-align: middle;\n",
       "    }\n",
       "\n",
       "    .dataframe tbody tr th {\n",
       "        vertical-align: top;\n",
       "    }\n",
       "\n",
       "    .dataframe thead th {\n",
       "        text-align: right;\n",
       "    }\n",
       "</style>\n",
       "<table border=\"1\" class=\"dataframe\">\n",
       "  <thead>\n",
       "    <tr style=\"text-align: right;\">\n",
       "      <th></th>\n",
       "      <th>LIST-ID</th>\n",
       "      <th>EDCS-ID</th>\n",
       "      <th>EDH-ID</th>\n",
       "      <th>trismegistos_uri</th>\n",
       "      <th>pleiades_id</th>\n",
       "      <th>transcription</th>\n",
       "      <th>inscription</th>\n",
       "      <th>clean_text_conservative</th>\n",
       "      <th>clean_text_interpretive_sentence</th>\n",
       "      <th>clean_text_interpretive_word</th>\n",
       "      <th>...</th>\n",
       "      <th>not_before</th>\n",
       "      <th>Longitude</th>\n",
       "      <th>Latitude</th>\n",
       "      <th>geotemporal?</th>\n",
       "      <th>geometry</th>\n",
       "      <th>urban_context</th>\n",
       "      <th>urban_context_city</th>\n",
       "      <th>urban_context_pop_est</th>\n",
       "      <th>type_of_inscription_auto</th>\n",
       "      <th>type_of_inscription_auto_prob</th>\n",
       "    </tr>\n",
       "  </thead>\n",
       "  <tbody>\n",
       "    <tr>\n",
       "      <th>445464</th>\n",
       "      <td>445465</td>\n",
       "      <td>EDCS-03700724</td>\n",
       "      <td>HD052964</td>\n",
       "      <td>https://www.trismegistos.org/text/121715</td>\n",
       "      <td>531064</td>\n",
       "      <td>Fortissimo et piis/simo Caesari d(omino) n(ost...</td>\n",
       "      <td>Fortissimo et Piis/simo Caesari d(omino) n(ost...</td>\n",
       "      <td>Fortissimo et piissimo Caesari d n Gal Val P F...</td>\n",
       "      <td>Fortissimo et piissimo Caesari domino nostro G...</td>\n",
       "      <td>Fortissimo et piissimo Caesari domino nostro G...</td>\n",
       "      <td>...</td>\n",
       "      <td>309.0</td>\n",
       "      <td>20.766800</td>\n",
       "      <td>39.451200</td>\n",
       "      <td>True</td>\n",
       "      <td>POINT (20.767 39.451)</td>\n",
       "      <td>rural</td>\n",
       "      <td>None</td>\n",
       "      <td>NaN</td>\n",
       "      <td>honorific inscription</td>\n",
       "      <td>1.0</td>\n",
       "    </tr>\n",
       "    <tr>\n",
       "      <th>445466</th>\n",
       "      <td>445467</td>\n",
       "      <td>EDCS-03300852</td>\n",
       "      <td>HD051000</td>\n",
       "      <td>https://www.trismegistos.org/text/177273</td>\n",
       "      <td>240855</td>\n",
       "      <td>[Imp(eratori) Caes(ari) M(arco)] / An[nio] Flo...</td>\n",
       "      <td>Imp(eratori) / Floriano / P(io) F(elici) Aug(u...</td>\n",
       "      <td>An Floriano P F Aug p p m p III Imp Caes M Aur...</td>\n",
       "      <td>Imperatori Caesari Marco Annio Floriano Pio Fe...</td>\n",
       "      <td>Imperatori Caesari Marco Annio Floriano Pio Fe...</td>\n",
       "      <td>...</td>\n",
       "      <td>276.0</td>\n",
       "      <td>22.417100</td>\n",
       "      <td>37.431900</td>\n",
       "      <td>True</td>\n",
       "      <td>POINT (22.417 37.432)</td>\n",
       "      <td>large</td>\n",
       "      <td>Tegea</td>\n",
       "      <td>46362.0</td>\n",
       "      <td>mile-/leaguestone</td>\n",
       "      <td>1.0</td>\n",
       "    </tr>\n",
       "    <tr>\n",
       "      <th>445467</th>\n",
       "      <td>445468</td>\n",
       "      <td>EDCS-28500283</td>\n",
       "      <td>HD021396</td>\n",
       "      <td>https://www.trismegistos.org/text/177131</td>\n",
       "      <td></td>\n",
       "      <td>T[i(berius)] Claudius Caesar Aug(ustus) / G[er...</td>\n",
       "      <td>T[(iberius)] Claudius Caesar Aug(ustus) / G[er...</td>\n",
       "      <td>T Claudius Caesar Aug Ganicus pontif max trib ...</td>\n",
       "      <td>Tiberius Claudius Caesar Augustus Germanicus p...</td>\n",
       "      <td>Tiberius Claudius Caesar Augustus Germanicus p...</td>\n",
       "      <td>...</td>\n",
       "      <td>49.0</td>\n",
       "      <td>22.420877</td>\n",
       "      <td>37.454501</td>\n",
       "      <td>True</td>\n",
       "      <td>POINT (22.421 37.455)</td>\n",
       "      <td>large</td>\n",
       "      <td>Tegea</td>\n",
       "      <td>46362.0</td>\n",
       "      <td>public legal inscription</td>\n",
       "      <td>1.0</td>\n",
       "    </tr>\n",
       "    <tr>\n",
       "      <th>445469</th>\n",
       "      <td>445470</td>\n",
       "      <td>EDCS-09400671</td>\n",
       "      <td>HD011892</td>\n",
       "      <td>https://www.trismegistos.org/text/177087</td>\n",
       "      <td></td>\n",
       "      <td>Pro salute Imp(eratorum) Caesari(s) / L(uci) S...</td>\n",
       "      <td>Pro salute Imp(eratoris) Caesari(s) / L(uci) S...</td>\n",
       "      <td>Pro salute Imp Caesari L Septimi Severi et M A...</td>\n",
       "      <td>Pro salute Imperatorum Caesaris Luci Septimi S...</td>\n",
       "      <td>Pro salute Imperatorum Caesaris Luci Septimi S...</td>\n",
       "      <td>...</td>\n",
       "      <td>198.0</td>\n",
       "      <td>24.937637</td>\n",
       "      <td>37.837612</td>\n",
       "      <td>True</td>\n",
       "      <td>POINT (24.938 37.838)</td>\n",
       "      <td>rural</td>\n",
       "      <td>None</td>\n",
       "      <td>NaN</td>\n",
       "      <td>votive inscription</td>\n",
       "      <td>1.0</td>\n",
       "    </tr>\n",
       "    <tr>\n",
       "      <th>445471</th>\n",
       "      <td>445472</td>\n",
       "      <td>EDCS-24600769</td>\n",
       "      <td>HD050999</td>\n",
       "      <td>https://www.trismegistos.org/text/177272</td>\n",
       "      <td>570531</td>\n",
       "      <td>Octa(vius) Sal(utaris)</td>\n",
       "      <td>Octa(vius) Sa(lutaris)</td>\n",
       "      <td>Octa Sal</td>\n",
       "      <td>Octavius Salutaris</td>\n",
       "      <td>Octavius Salutaris</td>\n",
       "      <td>...</td>\n",
       "      <td>81.0</td>\n",
       "      <td>21.627100</td>\n",
       "      <td>37.647900</td>\n",
       "      <td>True</td>\n",
       "      <td>POINT (21.627 37.648)</td>\n",
       "      <td>rural</td>\n",
       "      <td>None</td>\n",
       "      <td>NaN</td>\n",
       "      <td>owner/artist inscription</td>\n",
       "      <td>1.0</td>\n",
       "    </tr>\n",
       "  </tbody>\n",
       "</table>\n",
       "<p>5 rows × 65 columns</p>\n",
       "</div>"
      ],
      "text/plain": [
       "        LIST-ID        EDCS-ID    EDH-ID  \\\n",
       "445464   445465  EDCS-03700724  HD052964   \n",
       "445466   445467  EDCS-03300852  HD051000   \n",
       "445467   445468  EDCS-28500283  HD021396   \n",
       "445469   445470  EDCS-09400671  HD011892   \n",
       "445471   445472  EDCS-24600769  HD050999   \n",
       "\n",
       "                                trismegistos_uri pleiades_id  \\\n",
       "445464  https://www.trismegistos.org/text/121715      531064   \n",
       "445466  https://www.trismegistos.org/text/177273      240855   \n",
       "445467  https://www.trismegistos.org/text/177131               \n",
       "445469  https://www.trismegistos.org/text/177087               \n",
       "445471  https://www.trismegistos.org/text/177272      570531   \n",
       "\n",
       "                                            transcription  \\\n",
       "445464  Fortissimo et piis/simo Caesari d(omino) n(ost...   \n",
       "445466  [Imp(eratori) Caes(ari) M(arco)] / An[nio] Flo...   \n",
       "445467  T[i(berius)] Claudius Caesar Aug(ustus) / G[er...   \n",
       "445469  Pro salute Imp(eratorum) Caesari(s) / L(uci) S...   \n",
       "445471                             Octa(vius) Sal(utaris)   \n",
       "\n",
       "                                              inscription  \\\n",
       "445464  Fortissimo et Piis/simo Caesari d(omino) n(ost...   \n",
       "445466  Imp(eratori) / Floriano / P(io) F(elici) Aug(u...   \n",
       "445467  T[(iberius)] Claudius Caesar Aug(ustus) / G[er...   \n",
       "445469  Pro salute Imp(eratoris) Caesari(s) / L(uci) S...   \n",
       "445471                             Octa(vius) Sa(lutaris)   \n",
       "\n",
       "                                  clean_text_conservative  \\\n",
       "445464  Fortissimo et piissimo Caesari d n Gal Val P F...   \n",
       "445466  An Floriano P F Aug p p m p III Imp Caes M Aur...   \n",
       "445467  T Claudius Caesar Aug Ganicus pontif max trib ...   \n",
       "445469  Pro salute Imp Caesari L Septimi Severi et M A...   \n",
       "445471                                           Octa Sal   \n",
       "\n",
       "                         clean_text_interpretive_sentence  \\\n",
       "445464  Fortissimo et piissimo Caesari domino nostro G...   \n",
       "445466  Imperatori Caesari Marco Annio Floriano Pio Fe...   \n",
       "445467  Tiberius Claudius Caesar Augustus Germanicus p...   \n",
       "445469  Pro salute Imperatorum Caesaris Luci Septimi S...   \n",
       "445471                                 Octavius Salutaris   \n",
       "\n",
       "                             clean_text_interpretive_word  ... not_before  \\\n",
       "445464  Fortissimo et piissimo Caesari domino nostro G...  ...      309.0   \n",
       "445466  Imperatori Caesari Marco Annio Floriano Pio Fe...  ...      276.0   \n",
       "445467  Tiberius Claudius Caesar Augustus Germanicus p...  ...       49.0   \n",
       "445469  Pro salute Imperatorum Caesaris Luci Septimi S...  ...      198.0   \n",
       "445471                                 Octavius Salutaris  ...       81.0   \n",
       "\n",
       "        Longitude   Latitude geotemporal?               geometry  \\\n",
       "445464  20.766800  39.451200         True  POINT (20.767 39.451)   \n",
       "445466  22.417100  37.431900         True  POINT (22.417 37.432)   \n",
       "445467  22.420877  37.454501         True  POINT (22.421 37.455)   \n",
       "445469  24.937637  37.837612         True  POINT (24.938 37.838)   \n",
       "445471  21.627100  37.647900         True  POINT (21.627 37.648)   \n",
       "\n",
       "       urban_context urban_context_city urban_context_pop_est  \\\n",
       "445464         rural               None                   NaN   \n",
       "445466         large              Tegea               46362.0   \n",
       "445467         large              Tegea               46362.0   \n",
       "445469         rural               None                   NaN   \n",
       "445471         rural               None                   NaN   \n",
       "\n",
       "        type_of_inscription_auto type_of_inscription_auto_prob  \n",
       "445464     honorific inscription                           1.0  \n",
       "445466         mile-/leaguestone                           1.0  \n",
       "445467  public legal inscription                           1.0  \n",
       "445469        votive inscription                           1.0  \n",
       "445471  owner/artist inscription                           1.0  \n",
       "\n",
       "[5 rows x 65 columns]"
      ]
     },
     "execution_count": 4,
     "metadata": {},
     "output_type": "execute_result"
    }
   ],
   "source": [
    "lire.head(5)"
   ]
  },
  {
   "cell_type": "markdown",
   "id": "c111e418-5c89-4eaa-b4c6-bb14c4ce3660",
   "metadata": {},
   "source": [
    "### Print column names"
   ]
  },
  {
   "cell_type": "markdown",
   "id": "71ffc928-29ef-4fbb-b753-4f860dfc5888",
   "metadata": {},
   "source": [
    "Also set column names as a variable so that it can be used later"
   ]
  },
  {
   "cell_type": "code",
   "execution_count": 5,
   "id": "fbd8994a-0e2b-434f-952f-213febd2a51e",
   "metadata": {},
   "outputs": [
    {
     "name": "stdout",
     "output_type": "stream",
     "text": [
      "LIST-ID\n",
      "EDCS-ID\n",
      "EDH-ID\n",
      "trismegistos_uri\n",
      "pleiades_id\n",
      "transcription\n",
      "inscription\n",
      "clean_text_conservative\n",
      "clean_text_interpretive_sentence\n",
      "clean_text_interpretive_word\n",
      "clean_text_interpretive_word_EDCS\n",
      "diplomatic_text\n",
      "province\n",
      "place\n",
      "inscr_type\n",
      "status_notation\n",
      "inscr_process\n",
      "status\n",
      "partner_link\n",
      "last_update\n",
      "letter_size\n",
      "type_of_inscription\n",
      "work_status\n",
      "year_of_find\n",
      "present_location\n",
      "text_edition\n",
      "support_objecttype\n",
      "support_material\n",
      "support_decoration\n",
      "keywords_term\n",
      "people\n",
      "type_of_inscription_clean\n",
      "type_of_inscription_certainty\n",
      "height_cm\n",
      "width_cm\n",
      "depth_cm\n",
      "material_clean\n",
      "type_of_monument_clean\n",
      "type_of_monument_certainty\n",
      "province_label_clean\n",
      "province_label_certainty\n",
      "country_clean\n",
      "country_certainty\n",
      "findspot_ancient_clean\n",
      "findspot_ancient_certainty\n",
      "modern_region_clean\n",
      "modern_region_certainty\n",
      "findspot_modern_clean\n",
      "findspot_modern_certainty\n",
      "findspot_clean\n",
      "findspot_certainty\n",
      "language\n",
      "language_EDCS\n",
      "raw_dating\n",
      "not_after\n",
      "not_before\n",
      "Longitude\n",
      "Latitude\n",
      "geotemporal?\n",
      "geometry\n",
      "urban_context\n",
      "urban_context_city\n",
      "urban_context_pop_est\n",
      "type_of_inscription_auto\n",
      "type_of_inscription_auto_prob\n"
     ]
    }
   ],
   "source": [
    "lire_columns = lire.columns\n",
    "print(\"\\n\".join(lire_columns))"
   ]
  },
  {
   "cell_type": "markdown",
   "id": "5de1bac8-2ba6-495a-b36b-1b6f778a8157",
   "metadata": {},
   "source": [
    "# Summed Probability Analysis of the LIRE dataset"
   ]
  },
  {
   "cell_type": "markdown",
   "id": "2c138bb4-161e-4c02-8e92-b10eb54c178d",
   "metadata": {},
   "source": [
    "## SPA of the entire dataset, disregarding locations"
   ]
  },
  {
   "cell_type": "markdown",
   "id": "99152dfa-4ea9-4e16-8ab8-258c68ea0aed",
   "metadata": {},
   "source": [
    "Convert the 'start_date' and 'end_date' columns to integers"
   ]
  },
  {
   "cell_type": "code",
   "execution_count": 6,
   "id": "f59dd9e4-05c5-4861-9571-7f6afa92f30f",
   "metadata": {},
   "outputs": [],
   "source": [
    "lire['not_before'] = lire['not_before'].round().astype(int)\n",
    "lire['not_after'] = lire['not_after'].round().astype(int)"
   ]
  },
  {
   "cell_type": "markdown",
   "id": "5d08d4b7-0178-4479-902f-566d90753f09",
   "metadata": {},
   "source": [
    "Define the resolution for the summed probability distribution\n",
    "\n",
    "*Resolution must be defined because this dataset is formatted 'float' and not 'interger'. Resolution defines the size of bins or segments in years*."
   ]
  },
  {
   "cell_type": "code",
   "execution_count": 7,
   "id": "a7cb00ae-025a-478a-b906-429d999ab5b5",
   "metadata": {},
   "outputs": [],
   "source": [
    "resolution = 10"
   ]
  },
  {
   "cell_type": "markdown",
   "id": "34ef01d7-1b9d-4766-b23f-210f52796ccb",
   "metadata": {},
   "source": [
    "Initialize the summed probability distribution"
   ]
  },
  {
   "cell_type": "code",
   "execution_count": 8,
   "id": "f4d7dafb-abf8-40a4-9714-03ce1233d944",
   "metadata": {},
   "outputs": [],
   "source": [
    "earliest_date = lire['not_before'].min()\n",
    "latest_date = lire['not_after'].max()"
   ]
  },
  {
   "cell_type": "markdown",
   "id": "21ec9837-9d04-4a90-b28a-43d3d37bc1a7",
   "metadata": {},
   "source": [
    "Creat an array of zeros to hold the summed probabilities"
   ]
  },
  {
   "cell_type": "code",
   "execution_count": 9,
   "id": "784ede17-835b-46f3-8931-d4c2a85941cd",
   "metadata": {},
   "outputs": [],
   "source": [
    "num_bins = int((latest_date - earliest_date) / resolution) + 1\n",
    "summed_prob = np.zeros(num_bins)"
   ]
  },
  {
   "cell_type": "markdown",
   "id": "ea07e977-5123-4f92-b778-65872529745d",
   "metadata": {},
   "source": [
    "Loop through each inscription to update the summed probability distribution\n"
   ]
  },
  {
   "cell_type": "code",
   "execution_count": 10,
   "id": "786f7de8-ec51-4fbd-bd9e-4fcc766fb6e1",
   "metadata": {},
   "outputs": [],
   "source": [
    "for index, row in lire.iterrows():\n",
    "    start = row['not_before']\n",
    "    end = row['not_after']\n",
    "    \n",
    "    start_idx = int((start - earliest_date) / resolution)\n",
    "    end_idx = int((end - earliest_date) / resolution)\n",
    "   \n",
    "    # Calculate uniform distribution for this inscription,\n",
    "    # accounting for date combinations that add up to zero\n",
    "    try:\n",
    "        uniform_prob = 1.0 / (end_idx - start_idx + 1)\n",
    "    except ZeroDivisionError:\n",
    "        uniform_prob = 1  # set default value here\n",
    "\n",
    "    # Add this distribution to the overall summed distribution\n",
    "    summed_prob[start_idx : end_idx + 1] += uniform_prob"
   ]
  },
  {
   "cell_type": "markdown",
   "id": "5f7faeac-f934-474a-b2ce-8d64e3d5641d",
   "metadata": {},
   "source": [
    "Plot the summed probability distribution"
   ]
  },
  {
   "cell_type": "code",
   "execution_count": 14,
   "id": "56428523-a94b-489f-b02a-2bbf8240a973",
   "metadata": {},
   "outputs": [
    {
     "data": {
      "image/png": "[encoded data removed]",
      "text/plain": [
       "<Figure size 1200x600 with 1 Axes>"
      ]
     },
     "metadata": {},
     "output_type": "display_data"
    }
   ],
   "source": [
    "plt.figure(figsize=(12, 6))\n",
    "plt.bar(np.arange(earliest_date, latest_date + resolution, resolution), summed_prob, width=resolution, color='blue', alpha=0.7)\n",
    "plt.xlabel('Date')\n",
    "plt.ylabel('Summed Probability')\n",
    "plt.title('Summed Probability Analysis of Roman Inscriptions')\n",
    "plt.xlim([-100, 600])\n",
    "plt.ylim([0, 7000])\n",
    "plt.grid(True)\n",
    "plt.xticks(np.arange(-100, 600, 10), rotation='vertical')  # Change 10 to the desired tick interval for the x-axis\n",
    "plt.yticks(np.arange(0, 7000, 500))  # Change 500 to the desired tick interval for the y-axis\n",
    "\n",
    "plt.show()"
   ]
  },
  {
   "cell_type": "code",
   "execution_count": null,
   "id": "06855647-67c4-4e50-a961-c9c4a8c9c1ea",
   "metadata": {},
   "outputs": [],
   "source": []
  }
 ],
 "metadata": {
  "kernelspec": {
   "display_name": "Python 3 (ipykernel)",
   "language": "python",
   "name": "python3"
  },
  "language_info": {
   "codemirror_mode": {
    "name": "ipython",
    "version": 3
   },
   "file_extension": ".py",
   "mimetype": "text/x-python",
   "name": "python",
   "nbconvert_exporter": "python",
   "pygments_lexer": "ipython3",
   "version": "3.11.4"
  }
 },
 "nbformat": 4,
 "nbformat_minor": 5
}
