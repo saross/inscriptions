{
 "cells": [
  {
   "cell_type": "markdown",
   "id": "8dad1030-a1a4-4475-a2b4-d844cebdc602",
   "metadata": {},
   "source": [
    "*ChatGPT-4 used throughout to generate code snippets*"
   ]
  },
  {
   "cell_type": "markdown",
   "id": "1f60cd32-d760-4749-936b-833ef8d8f7cd",
   "metadata": {},
   "source": [
    "# Setup"
   ]
  },
  {
   "cell_type": "markdown",
   "id": "1799f33b-81f6-4e78-88e2-d68d2d417dca",
   "metadata": {},
   "source": [
    "## Install libraries\n",
    "\n",
    "geopandas, fastparquet, numpy"
   ]
  },
  {
   "cell_type": "code",
   "execution_count": 1,
   "id": "9849fcaf-00e4-4382-93d5-1ec9f6c9bcb6",
   "metadata": {},
   "outputs": [
    {
     "name": "stdout",
     "output_type": "stream",
     "text": [
      "Requirement already satisfied: pandas in /home/shawn/anaconda3/lib/python3.11/site-packages (1.5.3)\n",
      "Requirement already satisfied: python-dateutil>=2.8.1 in /home/shawn/anaconda3/lib/python3.11/site-packages (from pandas) (2.8.2)\n",
      "Requirement already satisfied: pytz>=2020.1 in /home/shawn/anaconda3/lib/python3.11/site-packages (from pandas) (2022.7)\n",
      "Requirement already satisfied: numpy>=1.21.0 in /home/shawn/anaconda3/lib/python3.11/site-packages (from pandas) (1.24.3)\n",
      "Requirement already satisfied: six>=1.5 in /home/shawn/anaconda3/lib/python3.11/site-packages (from python-dateutil>=2.8.1->pandas) (1.16.0)\n",
      "Requirement already satisfied: geopandas in /home/shawn/anaconda3/lib/python3.11/site-packages (0.13.2)\n",
      "Requirement already satisfied: fiona>=1.8.19 in /home/shawn/anaconda3/lib/python3.11/site-packages (from geopandas) (1.9.4.post1)\n",
      "Requirement already satisfied: packaging in /home/shawn/anaconda3/lib/python3.11/site-packages (from geopandas) (23.0)\n",
      "Requirement already satisfied: pandas>=1.1.0 in /home/shawn/anaconda3/lib/python3.11/site-packages (from geopandas) (1.5.3)\n",
      "Requirement already satisfied: pyproj>=3.0.1 in /home/shawn/anaconda3/lib/python3.11/site-packages (from geopandas) (3.6.0)\n",
      "Requirement already satisfied: shapely>=1.7.1 in /home/shawn/anaconda3/lib/python3.11/site-packages (from geopandas) (2.0.1)\n",
      "Requirement already satisfied: attrs>=19.2.0 in /home/shawn/anaconda3/lib/python3.11/site-packages (from fiona>=1.8.19->geopandas) (22.1.0)\n",
      "Requirement already satisfied: certifi in /home/shawn/anaconda3/lib/python3.11/site-packages (from fiona>=1.8.19->geopandas) (2023.7.22)\n",
      "Requirement already satisfied: click~=8.0 in /home/shawn/anaconda3/lib/python3.11/site-packages (from fiona>=1.8.19->geopandas) (8.0.4)\n",
      "Requirement already satisfied: click-plugins>=1.0 in /home/shawn/anaconda3/lib/python3.11/site-packages (from fiona>=1.8.19->geopandas) (1.1.1)\n",
      "Requirement already satisfied: cligj>=0.5 in /home/shawn/anaconda3/lib/python3.11/site-packages (from fiona>=1.8.19->geopandas) (0.7.2)\n",
      "Requirement already satisfied: six in /home/shawn/anaconda3/lib/python3.11/site-packages (from fiona>=1.8.19->geopandas) (1.16.0)\n",
      "Requirement already satisfied: python-dateutil>=2.8.1 in /home/shawn/anaconda3/lib/python3.11/site-packages (from pandas>=1.1.0->geopandas) (2.8.2)\n",
      "Requirement already satisfied: pytz>=2020.1 in /home/shawn/anaconda3/lib/python3.11/site-packages (from pandas>=1.1.0->geopandas) (2022.7)\n",
      "Requirement already satisfied: numpy>=1.21.0 in /home/shawn/anaconda3/lib/python3.11/site-packages (from pandas>=1.1.0->geopandas) (1.24.3)\n",
      "Requirement already satisfied: fastparquet in /home/shawn/anaconda3/lib/python3.11/site-packages (2023.7.0)\n",
      "Requirement already satisfied: pandas>=1.5.0 in /home/shawn/anaconda3/lib/python3.11/site-packages (from fastparquet) (1.5.3)\n",
      "Requirement already satisfied: numpy>=1.20.3 in /home/shawn/anaconda3/lib/python3.11/site-packages (from fastparquet) (1.24.3)\n",
      "Requirement already satisfied: cramjam>=2.3 in /home/shawn/anaconda3/lib/python3.11/site-packages (from fastparquet) (2.7.0)\n",
      "Requirement already satisfied: fsspec in /home/shawn/anaconda3/lib/python3.11/site-packages (from fastparquet) (2023.4.0)\n",
      "Requirement already satisfied: packaging in /home/shawn/anaconda3/lib/python3.11/site-packages (from fastparquet) (23.0)\n",
      "Requirement already satisfied: python-dateutil>=2.8.1 in /home/shawn/anaconda3/lib/python3.11/site-packages (from pandas>=1.5.0->fastparquet) (2.8.2)\n",
      "Requirement already satisfied: pytz>=2020.1 in /home/shawn/anaconda3/lib/python3.11/site-packages (from pandas>=1.5.0->fastparquet) (2022.7)\n",
      "Requirement already satisfied: six>=1.5 in /home/shawn/anaconda3/lib/python3.11/site-packages (from python-dateutil>=2.8.1->pandas>=1.5.0->fastparquet) (1.16.0)\n",
      "Requirement already satisfied: numpy in /home/shawn/anaconda3/lib/python3.11/site-packages (1.24.3)\n",
      "Requirement already satisfied: matplotlib in /home/shawn/anaconda3/lib/python3.11/site-packages (3.7.1)\n",
      "Requirement already satisfied: contourpy>=1.0.1 in /home/shawn/anaconda3/lib/python3.11/site-packages (from matplotlib) (1.0.5)\n",
      "Requirement already satisfied: cycler>=0.10 in /home/shawn/anaconda3/lib/python3.11/site-packages (from matplotlib) (0.11.0)\n",
      "Requirement already satisfied: fonttools>=4.22.0 in /home/shawn/anaconda3/lib/python3.11/site-packages (from matplotlib) (4.25.0)\n",
      "Requirement already satisfied: kiwisolver>=1.0.1 in /home/shawn/anaconda3/lib/python3.11/site-packages (from matplotlib) (1.4.4)\n",
      "Requirement already satisfied: numpy>=1.20 in /home/shawn/anaconda3/lib/python3.11/site-packages (from matplotlib) (1.24.3)\n",
      "Requirement already satisfied: packaging>=20.0 in /home/shawn/anaconda3/lib/python3.11/site-packages (from matplotlib) (23.0)\n",
      "Requirement already satisfied: pillow>=6.2.0 in /home/shawn/anaconda3/lib/python3.11/site-packages (from matplotlib) (9.4.0)\n",
      "Requirement already satisfied: pyparsing>=2.3.1 in /home/shawn/anaconda3/lib/python3.11/site-packages (from matplotlib) (3.0.9)\n",
      "Requirement already satisfied: python-dateutil>=2.7 in /home/shawn/anaconda3/lib/python3.11/site-packages (from matplotlib) (2.8.2)\n",
      "Requirement already satisfied: six>=1.5 in /home/shawn/anaconda3/lib/python3.11/site-packages (from python-dateutil>=2.7->matplotlib) (1.16.0)\n",
      "Requirement already satisfied: tempun in /home/shawn/anaconda3/lib/python3.11/site-packages (0.2.2)\n",
      "Requirement already satisfied: pandas in /home/shawn/anaconda3/lib/python3.11/site-packages (from tempun) (1.5.3)\n",
      "Requirement already satisfied: numpy in /home/shawn/anaconda3/lib/python3.11/site-packages (from tempun) (1.24.3)\n",
      "Requirement already satisfied: scipy in /home/shawn/anaconda3/lib/python3.11/site-packages (from tempun) (1.10.1)\n",
      "Requirement already satisfied: matplotlib in /home/shawn/anaconda3/lib/python3.11/site-packages (from tempun) (3.7.1)\n",
      "Requirement already satisfied: contourpy>=1.0.1 in /home/shawn/anaconda3/lib/python3.11/site-packages (from matplotlib->tempun) (1.0.5)\n",
      "Requirement already satisfied: cycler>=0.10 in /home/shawn/anaconda3/lib/python3.11/site-packages (from matplotlib->tempun) (0.11.0)\n",
      "Requirement already satisfied: fonttools>=4.22.0 in /home/shawn/anaconda3/lib/python3.11/site-packages (from matplotlib->tempun) (4.25.0)\n",
      "Requirement already satisfied: kiwisolver>=1.0.1 in /home/shawn/anaconda3/lib/python3.11/site-packages (from matplotlib->tempun) (1.4.4)\n",
      "Requirement already satisfied: packaging>=20.0 in /home/shawn/anaconda3/lib/python3.11/site-packages (from matplotlib->tempun) (23.0)\n",
      "Requirement already satisfied: pillow>=6.2.0 in /home/shawn/anaconda3/lib/python3.11/site-packages (from matplotlib->tempun) (9.4.0)\n",
      "Requirement already satisfied: pyparsing>=2.3.1 in /home/shawn/anaconda3/lib/python3.11/site-packages (from matplotlib->tempun) (3.0.9)\n",
      "Requirement already satisfied: python-dateutil>=2.7 in /home/shawn/anaconda3/lib/python3.11/site-packages (from matplotlib->tempun) (2.8.2)\n",
      "Requirement already satisfied: pytz>=2020.1 in /home/shawn/anaconda3/lib/python3.11/site-packages (from pandas->tempun) (2022.7)\n",
      "Requirement already satisfied: six>=1.5 in /home/shawn/anaconda3/lib/python3.11/site-packages (from python-dateutil>=2.7->matplotlib->tempun) (1.16.0)\n"
     ]
    }
   ],
   "source": [
    "# in jupyter notebooks, normal install using !pip install doesn't work, use the solution from:\n",
    "# https://www.geeksforgeeks.org/install-python-package-using-jupyter-notebook/\n",
    "\n",
    "import sys\n",
    "!{sys.executable} -m pip install pandas\n",
    "!{sys.executable} -m pip install geopandas\n",
    "!{sys.executable} -m pip install fastparquet\n",
    "!{sys.executable} -m pip install numpy\n",
    "!{sys.executable} -m pip install matplotlib\n",
    "!{sys.executable} -m pip install tempun"
   ]
  },
  {
   "cell_type": "code",
   "execution_count": 2,
   "id": "67bc95b8-b28f-4feb-a48e-2ccc3edad2ec",
   "metadata": {},
   "outputs": [],
   "source": [
    "import pandas as pd\n",
    "import geopandas as gpd\n",
    "import numpy as np\n",
    "import matplotlib.pyplot as plt\n",
    "import fastparquet\n",
    "import tempun"
   ]
  },
  {
   "cell_type": "markdown",
   "id": "1abf5df7-697e-4c3c-9886-ff16fca504e9",
   "metadata": {},
   "source": [
    "## Import LIRE_v2.3 dataset \n",
    "\n",
    "**Source**: https://zenodo.org/record/8147298\n",
    "\n",
    "**Format**: parquet"
   ]
  },
  {
   "cell_type": "code",
   "execution_count": 3,
   "id": "4d21834c-d8f9-4d11-bcdd-ef64baf5e0cc",
   "metadata": {},
   "outputs": [],
   "source": [
    "lire = gpd.read_parquet('data/LIRE_v2-3.parquet')"
   ]
  },
  {
   "cell_type": "markdown",
   "id": "7c5b156d-4233-4168-9770-a8014ac5fb74",
   "metadata": {},
   "source": [
    "### Display first five rows of LIRE dataset"
   ]
  },
  {
   "cell_type": "code",
   "execution_count": 4,
   "id": "5823a26c-2bdb-4bdd-ba9e-d70a033cb36a",
   "metadata": {},
   "outputs": [
    {
     "data": {
      "text/html": [
       "<div>\n",
       "<style scoped>\n",
       "    .dataframe tbody tr th:only-of-type {\n",
       "        vertical-align: middle;\n",
       "    }\n",
       "\n",
       "    .dataframe tbody tr th {\n",
       "        vertical-align: top;\n",
       "    }\n",
       "\n",
       "    .dataframe thead th {\n",
       "        text-align: right;\n",
       "    }\n",
       "</style>\n",
       "<table border=\"1\" class=\"dataframe\">\n",
       "  <thead>\n",
       "    <tr style=\"text-align: right;\">\n",
       "      <th></th>\n",
       "      <th>LIST-ID</th>\n",
       "      <th>EDCS-ID</th>\n",
       "      <th>EDH-ID</th>\n",
       "      <th>trismegistos_uri</th>\n",
       "      <th>pleiades_id</th>\n",
       "      <th>transcription</th>\n",
       "      <th>inscription</th>\n",
       "      <th>clean_text_conservative</th>\n",
       "      <th>clean_text_interpretive_sentence</th>\n",
       "      <th>clean_text_interpretive_word</th>\n",
       "      <th>...</th>\n",
       "      <th>not_before</th>\n",
       "      <th>Longitude</th>\n",
       "      <th>Latitude</th>\n",
       "      <th>geotemporal?</th>\n",
       "      <th>geometry</th>\n",
       "      <th>urban_context</th>\n",
       "      <th>urban_context_city</th>\n",
       "      <th>urban_context_pop_est</th>\n",
       "      <th>type_of_inscription_auto</th>\n",
       "      <th>type_of_inscription_auto_prob</th>\n",
       "    </tr>\n",
       "  </thead>\n",
       "  <tbody>\n",
       "    <tr>\n",
       "      <th>445464</th>\n",
       "      <td>445465</td>\n",
       "      <td>EDCS-03700724</td>\n",
       "      <td>HD052964</td>\n",
       "      <td>https://www.trismegistos.org/text/121715</td>\n",
       "      <td>531064</td>\n",
       "      <td>Fortissimo et piis/simo Caesari d(omino) n(ost...</td>\n",
       "      <td>Fortissimo et Piis/simo Caesari d(omino) n(ost...</td>\n",
       "      <td>Fortissimo et piissimo Caesari d n Gal Val P F...</td>\n",
       "      <td>Fortissimo et piissimo Caesari domino nostro G...</td>\n",
       "      <td>Fortissimo et piissimo Caesari domino nostro G...</td>\n",
       "      <td>...</td>\n",
       "      <td>309.0</td>\n",
       "      <td>20.766800</td>\n",
       "      <td>39.451200</td>\n",
       "      <td>True</td>\n",
       "      <td>POINT (20.767 39.451)</td>\n",
       "      <td>rural</td>\n",
       "      <td>None</td>\n",
       "      <td>NaN</td>\n",
       "      <td>honorific inscription</td>\n",
       "      <td>1.0</td>\n",
       "    </tr>\n",
       "    <tr>\n",
       "      <th>445466</th>\n",
       "      <td>445467</td>\n",
       "      <td>EDCS-03300852</td>\n",
       "      <td>HD051000</td>\n",
       "      <td>https://www.trismegistos.org/text/177273</td>\n",
       "      <td>240855</td>\n",
       "      <td>[Imp(eratori) Caes(ari) M(arco)] / An[nio] Flo...</td>\n",
       "      <td>Imp(eratori) / Floriano / P(io) F(elici) Aug(u...</td>\n",
       "      <td>An Floriano P F Aug p p m p III Imp Caes M Aur...</td>\n",
       "      <td>Imperatori Caesari Marco Annio Floriano Pio Fe...</td>\n",
       "      <td>Imperatori Caesari Marco Annio Floriano Pio Fe...</td>\n",
       "      <td>...</td>\n",
       "      <td>276.0</td>\n",
       "      <td>22.417100</td>\n",
       "      <td>37.431900</td>\n",
       "      <td>True</td>\n",
       "      <td>POINT (22.417 37.432)</td>\n",
       "      <td>large</td>\n",
       "      <td>Tegea</td>\n",
       "      <td>46362.0</td>\n",
       "      <td>mile-/leaguestone</td>\n",
       "      <td>1.0</td>\n",
       "    </tr>\n",
       "    <tr>\n",
       "      <th>445467</th>\n",
       "      <td>445468</td>\n",
       "      <td>EDCS-28500283</td>\n",
       "      <td>HD021396</td>\n",
       "      <td>https://www.trismegistos.org/text/177131</td>\n",
       "      <td></td>\n",
       "      <td>T[i(berius)] Claudius Caesar Aug(ustus) / G[er...</td>\n",
       "      <td>T[(iberius)] Claudius Caesar Aug(ustus) / G[er...</td>\n",
       "      <td>T Claudius Caesar Aug Ganicus pontif max trib ...</td>\n",
       "      <td>Tiberius Claudius Caesar Augustus Germanicus p...</td>\n",
       "      <td>Tiberius Claudius Caesar Augustus Germanicus p...</td>\n",
       "      <td>...</td>\n",
       "      <td>49.0</td>\n",
       "      <td>22.420877</td>\n",
       "      <td>37.454501</td>\n",
       "      <td>True</td>\n",
       "      <td>POINT (22.421 37.455)</td>\n",
       "      <td>large</td>\n",
       "      <td>Tegea</td>\n",
       "      <td>46362.0</td>\n",
       "      <td>public legal inscription</td>\n",
       "      <td>1.0</td>\n",
       "    </tr>\n",
       "    <tr>\n",
       "      <th>445469</th>\n",
       "      <td>445470</td>\n",
       "      <td>EDCS-09400671</td>\n",
       "      <td>HD011892</td>\n",
       "      <td>https://www.trismegistos.org/text/177087</td>\n",
       "      <td></td>\n",
       "      <td>Pro salute Imp(eratorum) Caesari(s) / L(uci) S...</td>\n",
       "      <td>Pro salute Imp(eratoris) Caesari(s) / L(uci) S...</td>\n",
       "      <td>Pro salute Imp Caesari L Septimi Severi et M A...</td>\n",
       "      <td>Pro salute Imperatorum Caesaris Luci Septimi S...</td>\n",
       "      <td>Pro salute Imperatorum Caesaris Luci Septimi S...</td>\n",
       "      <td>...</td>\n",
       "      <td>198.0</td>\n",
       "      <td>24.937637</td>\n",
       "      <td>37.837612</td>\n",
       "      <td>True</td>\n",
       "      <td>POINT (24.938 37.838)</td>\n",
       "      <td>rural</td>\n",
       "      <td>None</td>\n",
       "      <td>NaN</td>\n",
       "      <td>votive inscription</td>\n",
       "      <td>1.0</td>\n",
       "    </tr>\n",
       "    <tr>\n",
       "      <th>445471</th>\n",
       "      <td>445472</td>\n",
       "      <td>EDCS-24600769</td>\n",
       "      <td>HD050999</td>\n",
       "      <td>https://www.trismegistos.org/text/177272</td>\n",
       "      <td>570531</td>\n",
       "      <td>Octa(vius) Sal(utaris)</td>\n",
       "      <td>Octa(vius) Sa(lutaris)</td>\n",
       "      <td>Octa Sal</td>\n",
       "      <td>Octavius Salutaris</td>\n",
       "      <td>Octavius Salutaris</td>\n",
       "      <td>...</td>\n",
       "      <td>81.0</td>\n",
       "      <td>21.627100</td>\n",
       "      <td>37.647900</td>\n",
       "      <td>True</td>\n",
       "      <td>POINT (21.627 37.648)</td>\n",
       "      <td>rural</td>\n",
       "      <td>None</td>\n",
       "      <td>NaN</td>\n",
       "      <td>owner/artist inscription</td>\n",
       "      <td>1.0</td>\n",
       "    </tr>\n",
       "  </tbody>\n",
       "</table>\n",
       "<p>5 rows × 65 columns</p>\n",
       "</div>"
      ],
      "text/plain": [
       "        LIST-ID        EDCS-ID    EDH-ID  \\\n",
       "445464   445465  EDCS-03700724  HD052964   \n",
       "445466   445467  EDCS-03300852  HD051000   \n",
       "445467   445468  EDCS-28500283  HD021396   \n",
       "445469   445470  EDCS-09400671  HD011892   \n",
       "445471   445472  EDCS-24600769  HD050999   \n",
       "\n",
       "                                trismegistos_uri pleiades_id  \\\n",
       "445464  https://www.trismegistos.org/text/121715      531064   \n",
       "445466  https://www.trismegistos.org/text/177273      240855   \n",
       "445467  https://www.trismegistos.org/text/177131               \n",
       "445469  https://www.trismegistos.org/text/177087               \n",
       "445471  https://www.trismegistos.org/text/177272      570531   \n",
       "\n",
       "                                            transcription  \\\n",
       "445464  Fortissimo et piis/simo Caesari d(omino) n(ost...   \n",
       "445466  [Imp(eratori) Caes(ari) M(arco)] / An[nio] Flo...   \n",
       "445467  T[i(berius)] Claudius Caesar Aug(ustus) / G[er...   \n",
       "445469  Pro salute Imp(eratorum) Caesari(s) / L(uci) S...   \n",
       "445471                             Octa(vius) Sal(utaris)   \n",
       "\n",
       "                                              inscription  \\\n",
       "445464  Fortissimo et Piis/simo Caesari d(omino) n(ost...   \n",
       "445466  Imp(eratori) / Floriano / P(io) F(elici) Aug(u...   \n",
       "445467  T[(iberius)] Claudius Caesar Aug(ustus) / G[er...   \n",
       "445469  Pro salute Imp(eratoris) Caesari(s) / L(uci) S...   \n",
       "445471                             Octa(vius) Sa(lutaris)   \n",
       "\n",
       "                                  clean_text_conservative  \\\n",
       "445464  Fortissimo et piissimo Caesari d n Gal Val P F...   \n",
       "445466  An Floriano P F Aug p p m p III Imp Caes M Aur...   \n",
       "445467  T Claudius Caesar Aug Ganicus pontif max trib ...   \n",
       "445469  Pro salute Imp Caesari L Septimi Severi et M A...   \n",
       "445471                                           Octa Sal   \n",
       "\n",
       "                         clean_text_interpretive_sentence  \\\n",
       "445464  Fortissimo et piissimo Caesari domino nostro G...   \n",
       "445466  Imperatori Caesari Marco Annio Floriano Pio Fe...   \n",
       "445467  Tiberius Claudius Caesar Augustus Germanicus p...   \n",
       "445469  Pro salute Imperatorum Caesaris Luci Septimi S...   \n",
       "445471                                 Octavius Salutaris   \n",
       "\n",
       "                             clean_text_interpretive_word  ... not_before  \\\n",
       "445464  Fortissimo et piissimo Caesari domino nostro G...  ...      309.0   \n",
       "445466  Imperatori Caesari Marco Annio Floriano Pio Fe...  ...      276.0   \n",
       "445467  Tiberius Claudius Caesar Augustus Germanicus p...  ...       49.0   \n",
       "445469  Pro salute Imperatorum Caesaris Luci Septimi S...  ...      198.0   \n",
       "445471                                 Octavius Salutaris  ...       81.0   \n",
       "\n",
       "        Longitude   Latitude geotemporal?               geometry  \\\n",
       "445464  20.766800  39.451200         True  POINT (20.767 39.451)   \n",
       "445466  22.417100  37.431900         True  POINT (22.417 37.432)   \n",
       "445467  22.420877  37.454501         True  POINT (22.421 37.455)   \n",
       "445469  24.937637  37.837612         True  POINT (24.938 37.838)   \n",
       "445471  21.627100  37.647900         True  POINT (21.627 37.648)   \n",
       "\n",
       "       urban_context urban_context_city urban_context_pop_est  \\\n",
       "445464         rural               None                   NaN   \n",
       "445466         large              Tegea               46362.0   \n",
       "445467         large              Tegea               46362.0   \n",
       "445469         rural               None                   NaN   \n",
       "445471         rural               None                   NaN   \n",
       "\n",
       "        type_of_inscription_auto type_of_inscription_auto_prob  \n",
       "445464     honorific inscription                           1.0  \n",
       "445466         mile-/leaguestone                           1.0  \n",
       "445467  public legal inscription                           1.0  \n",
       "445469        votive inscription                           1.0  \n",
       "445471  owner/artist inscription                           1.0  \n",
       "\n",
       "[5 rows x 65 columns]"
      ]
     },
     "execution_count": 4,
     "metadata": {},
     "output_type": "execute_result"
    }
   ],
   "source": [
    "lire.head(5)"
   ]
  },
  {
   "cell_type": "markdown",
   "id": "c111e418-5c89-4eaa-b4c6-bb14c4ce3660",
   "metadata": {},
   "source": [
    "### Print column names"
   ]
  },
  {
   "cell_type": "markdown",
   "id": "71ffc928-29ef-4fbb-b753-4f860dfc5888",
   "metadata": {},
   "source": [
    "Also set column names as a variable so that it can be used later"
   ]
  },
  {
   "cell_type": "code",
   "execution_count": 5,
   "id": "fbd8994a-0e2b-434f-952f-213febd2a51e",
   "metadata": {},
   "outputs": [
    {
     "name": "stdout",
     "output_type": "stream",
     "text": [
      "LIST-ID\n",
      "EDCS-ID\n",
      "EDH-ID\n",
      "trismegistos_uri\n",
      "pleiades_id\n",
      "transcription\n",
      "inscription\n",
      "clean_text_conservative\n",
      "clean_text_interpretive_sentence\n",
      "clean_text_interpretive_word\n",
      "clean_text_interpretive_word_EDCS\n",
      "diplomatic_text\n",
      "province\n",
      "place\n",
      "inscr_type\n",
      "status_notation\n",
      "inscr_process\n",
      "status\n",
      "partner_link\n",
      "last_update\n",
      "letter_size\n",
      "type_of_inscription\n",
      "work_status\n",
      "year_of_find\n",
      "present_location\n",
      "text_edition\n",
      "support_objecttype\n",
      "support_material\n",
      "support_decoration\n",
      "keywords_term\n",
      "people\n",
      "type_of_inscription_clean\n",
      "type_of_inscription_certainty\n",
      "height_cm\n",
      "width_cm\n",
      "depth_cm\n",
      "material_clean\n",
      "type_of_monument_clean\n",
      "type_of_monument_certainty\n",
      "province_label_clean\n",
      "province_label_certainty\n",
      "country_clean\n",
      "country_certainty\n",
      "findspot_ancient_clean\n",
      "findspot_ancient_certainty\n",
      "modern_region_clean\n",
      "modern_region_certainty\n",
      "findspot_modern_clean\n",
      "findspot_modern_certainty\n",
      "findspot_clean\n",
      "findspot_certainty\n",
      "language\n",
      "language_EDCS\n",
      "raw_dating\n",
      "not_after\n",
      "not_before\n",
      "Longitude\n",
      "Latitude\n",
      "geotemporal?\n",
      "geometry\n",
      "urban_context\n",
      "urban_context_city\n",
      "urban_context_pop_est\n",
      "type_of_inscription_auto\n",
      "type_of_inscription_auto_prob\n"
     ]
    }
   ],
   "source": [
    "lire_columns = lire.columns\n",
    "print(\"\\n\".join(lire_columns))"
   ]
  },
  {
   "cell_type": "markdown",
   "id": "5de1bac8-2ba6-495a-b36b-1b6f778a8157",
   "metadata": {},
   "source": [
    "# Overview: SPA of the entire LIRE dataset"
   ]
  },
  {
   "cell_type": "markdown",
   "id": "2c138bb4-161e-4c02-8e92-b10eb54c178d",
   "metadata": {},
   "source": [
    "## All inscriptions, uniform distribution between start and end dates, disregard locations"
   ]
  },
  {
   "cell_type": "markdown",
   "id": "5d08d4b7-0178-4479-902f-566d90753f09",
   "metadata": {},
   "source": [
    "Define the resolution for the summed probability distribution\n",
    "\n",
    "*Resolution must be defined because this dataset is formatted 'float' and not 'interger'. Resolution defines the size of bins or segments in years*."
   ]
  },
  {
   "cell_type": "code",
   "execution_count": 6,
   "id": "a7cb00ae-025a-478a-b906-429d999ab5b5",
   "metadata": {},
   "outputs": [],
   "source": [
    "resolution = 10"
   ]
  },
  {
   "cell_type": "markdown",
   "id": "34ef01d7-1b9d-4766-b23f-210f52796ccb",
   "metadata": {},
   "source": [
    "Initialize the summed probability distribution"
   ]
  },
  {
   "cell_type": "code",
   "execution_count": 7,
   "id": "f4d7dafb-abf8-40a4-9714-03ce1233d944",
   "metadata": {},
   "outputs": [],
   "source": [
    "earliest_date = lire['not_before'].min()\n",
    "latest_date = lire['not_after'].max()"
   ]
  },
  {
   "cell_type": "markdown",
   "id": "21ec9837-9d04-4a90-b28a-43d3d37bc1a7",
   "metadata": {},
   "source": [
    "Creat an array of zeros to hold the summed probabilities"
   ]
  },
  {
   "cell_type": "code",
   "execution_count": 8,
   "id": "784ede17-835b-46f3-8931-d4c2a85941cd",
   "metadata": {},
   "outputs": [],
   "source": [
    "num_bins = int((latest_date - earliest_date) / resolution) + 1\n",
    "summed_prob = np.zeros(num_bins)"
   ]
  },
  {
   "cell_type": "markdown",
   "id": "ea07e977-5123-4f92-b778-65872529745d",
   "metadata": {},
   "source": [
    "Loop through each inscription to update the summed probability distribution\n"
   ]
  },
  {
   "cell_type": "code",
   "execution_count": 9,
   "id": "786f7de8-ec51-4fbd-bd9e-4fcc766fb6e1",
   "metadata": {},
   "outputs": [],
   "source": [
    "for index, row in lire.iterrows():\n",
    "    start = row['not_before']\n",
    "    end = row['not_after']\n",
    "    \n",
    "    start_idx = int((start - earliest_date) / resolution)\n",
    "    end_idx = int((end - earliest_date) / resolution)\n",
    "   \n",
    "    # Calculate uniform distribution for this inscription,\n",
    "    # accounting for date combinations that add up to zero\n",
    "    try:\n",
    "        uniform_prob = 1.0 / (end_idx - start_idx + 1)\n",
    "    except ZeroDivisionError:\n",
    "        uniform_prob = 1  # set default value here\n",
    "\n",
    "    # Add this distribution to the overall summed distribution\n",
    "    summed_prob[start_idx : end_idx + 1] += uniform_prob"
   ]
  },
  {
   "cell_type": "markdown",
   "id": "5f7faeac-f934-474a-b2ce-8d64e3d5641d",
   "metadata": {},
   "source": [
    "Plot the summed probability distribution"
   ]
  },
  {
   "cell_type": "code",
   "execution_count": 10,
   "id": "56428523-a94b-489f-b02a-2bbf8240a973",
   "metadata": {},
   "outputs": [
    {
     "data": {
      "image/png": "[encoded data removed]",
      "text/plain": [
       "<Figure size 1200x600 with 1 Axes>"
      ]
     },
     "metadata": {},
     "output_type": "display_data"
    }
   ],
   "source": [
    "# Create the plot\n",
    "plt.figure(figsize=(12, 6))\n",
    "plt.bar(np.arange(earliest_date, latest_date + resolution, resolution), summed_prob, width=resolution, color='blue', alpha=0.7)\n",
    "\n",
    "# Add labels and title\n",
    "plt.xlabel('Date')\n",
    "plt.ylabel('Summed Probability')\n",
    "plt.title('Summed Probability Analysis of Roman Inscriptions')\n",
    "\n",
    "# set axis limits and grid\n",
    "plt.xlim([-100, 600])\n",
    "plt.ylim([0, 7000])\n",
    "plt.grid(True)\n",
    "plt.xticks(np.arange(-100, 600, 50), rotation='vertical')  # Change 10 to the desired tick interval for the x-axis\n",
    "plt.yticks(np.arange(0, 7000, 500))  # Change 500 to the desired tick interval for the y-axis\n",
    "\n",
    "# Show the plot\n",
    "plt.show()"
   ]
  },
  {
   "cell_type": "markdown",
   "id": "ddbd9f3e-998e-4398-a6e1-3463c83b94da",
   "metadata": {},
   "source": [
    "Looking at this overview plot:\n",
    "\n",
    "* Several of the peaks seem to correspond to dynasty changes.\n",
    "* Start date should probably be 1 AD\n",
    "* End date should probably be 400 AD"
   ]
  },
  {
   "cell_type": "markdown",
   "id": "72d4da27-15ca-40b4-a5a3-f4ac3e275d0c",
   "metadata": {},
   "source": [
    "# Understanding uncertainty: date range statistics"
   ]
  },
  {
   "cell_type": "markdown",
   "id": "ef77d02d-1a98-4a0c-9046-63df93471a47",
   "metadata": {},
   "source": [
    "Calculate date range for each inscription and add it to the DF"
   ]
  },
  {
   "cell_type": "code",
   "execution_count": 11,
   "id": "9e1b842d-8349-4a00-a64f-8a22f718043e",
   "metadata": {},
   "outputs": [],
   "source": [
    "lire['date_range'] = lire['not_after'] - lire['not_before']"
   ]
  },
  {
   "cell_type": "markdown",
   "id": "2d5fe3c3-ad23-4fb3-90fb-d3a101d034f8",
   "metadata": {},
   "source": [
    "### Calculate descriptive statistics"
   ]
  },
  {
   "cell_type": "code",
   "execution_count": 20,
   "id": "e35bb647-1c16-4494-9d11-b31f34423e83",
   "metadata": {},
   "outputs": [
    {
     "name": "stdout",
     "output_type": "stream",
     "text": [
      "Total number of records: 182852\n",
      "Average Date Range: 101.28495176426837\n",
      "Median Date Range: 99.0\n",
      "Standard Deviation of Date Range: 76.75392161298758\n"
     ]
    }
   ],
   "source": [
    "# Return the total number of records\n",
    "\n",
    "total_records = lire.shape[0]\n",
    "\n",
    "# Calculate the average date range\n",
    "average_range = lire['date_range'].mean()\n",
    "\n",
    "# Calculate the median date range\n",
    "median_range = lire['date_range'].median()\n",
    "\n",
    "# Calculate the standard deviation of the date range\n",
    "std_dev_range = lire['date_range'].std()\n",
    "\n",
    "print(f\"Total number of records: {total_records}\")\n",
    "print(f\"Average Date Range: {average_range}\")\n",
    "print(f\"Median Date Range: {median_range}\")\n",
    "print(f\"Standard Deviation of Date Range: {std_dev_range}\")"
   ]
  },
  {
   "cell_type": "markdown",
   "id": "c6917903-8b11-4d65-91a5-c24a12947d84",
   "metadata": {},
   "source": [
    "### Create a histogram of date ranges"
   ]
  },
  {
   "cell_type": "code",
   "execution_count": 13,
   "id": "017dc15c-0bce-4b8b-8ff9-d76f62a14540",
   "metadata": {},
   "outputs": [
    {
     "data": {
      "image/png": "[encoded data removed]",
      "text/plain": [
       "<Figure size 1200x600 with 1 Axes>"
      ]
     },
     "metadata": {},
     "output_type": "display_data"
    }
   ],
   "source": [
    "# Create the histogram\n",
    "plt.figure(figsize=(12, 6))\n",
    "plt.hist(lire['date_range'], bins=np.arange(0, lire['date_range'].max() + 10, 10), edgecolor='black', alpha=0.7)\n",
    "\n",
    "# Add labels and title\n",
    "plt.xlabel('Date Range (Years)')\n",
    "plt.ylabel('Frequency')\n",
    "plt.title('Histogram of Date Ranges for Roman Inscriptions (10-year bins)')\n",
    "\n",
    "# set axis limits and grid\n",
    "plt.xlim([0, 600])\n",
    "plt.ylim([0, 50000])\n",
    "plt.grid(True)\n",
    "plt.xticks(np.arange(0, 600, 50), rotation='vertical')  # Change 10 to the desired tick interval for the x-axis\n",
    "plt.yticks(np.arange(0, 50000, 10000))  # Change 500 to the desired tick interval for the y-axis\n",
    "\n",
    "# Show the plot\n",
    "plt.show()"
   ]
  },
  {
   "cell_type": "markdown",
   "id": "46bbad81-48c0-45bc-a548-9db73be308a1",
   "metadata": {},
   "source": [
    "### Count number of inscriptions *between* various date-range thresholds"
   ]
  },
  {
   "cell_type": "markdown",
   "id": "e53bc251-a6df-463a-aa36-bf49376299f0",
   "metadata": {},
   "source": [
    "300, 200, 100, 50, 25, 10, and 1 year / exact date thresholds"
   ]
  },
  {
   "cell_type": "code",
   "execution_count": 26,
   "id": "d831f739-271a-4a2a-ac0b-f1d8b594ab0a",
   "metadata": {},
   "outputs": [
    {
     "name": "stdout",
     "output_type": "stream",
     "text": [
      "Counts of inscriptions with date ranges between certain thresholds:\n",
      "[0.0, 1.0)          8279\n",
      "[1.0, 10.0)         9272\n",
      "[10.0, 25.0)        8413\n",
      "[25.0, 50.0)       35120\n",
      "[50.0, 100.0)      67161\n",
      "[100.0, 200.0)     45651\n",
      "[200.0, 300.0)      7995\n",
      "[300.0, 2060.0)      932\n",
      "Name: date_range_bins, dtype: int64\n",
      "Specific counts for cross-checking\n",
      "Number of records with a date range of 0: 8279\n",
      "Number of records with a date range of < 1: 8308\n",
      "Number of records with a date range of <= 1: 11082\n",
      "Number of records with a date range greater than 0 but less than 1: 0\n",
      "Number of records with a date range less than 0: 29\n"
     ]
    }
   ],
   "source": [
    "# Define the thresholds\n",
    "\n",
    "thresholds = [1, 10, 25, 50, 100, 200, 300] \n",
    "\n",
    "# Create bins using the thresholds\n",
    "bins = [0] + thresholds + [lire['date_range'].max() + 1]\n",
    "\n",
    "# Categorize the date ranges based on the bins\n",
    "lire['date_range_bins'] = pd.cut(lire['date_range'], bins, right=False) # Count is right-exclusive\n",
    "\n",
    "# Count the number of inscriptions in each bin\n",
    "inscription_counts = lire['date_range_bins'].value_counts().sort_index()\n",
    "\n",
    "# Display the counts\n",
    "print(\"Counts of inscriptions with date ranges between certain thresholds:\")\n",
    "print(inscription_counts)\n",
    "\n",
    "# As a check, count the number of inscriptions with a '0' date range \n",
    "# (date reanges should not be less that one year)\n",
    "\n",
    "print(\"Specific counts for cross-checking\")\n",
    "zero_date_range_count = len(lire[lire['date_range'] == 0])\n",
    "print(f\"Number of records with a date range of 0: {zero_date_range_count}\")\n",
    "lessthanone_date_range_count = len(lire[lire['date_range'] < 1])\n",
    "print(f\"Number of records with a date range of < 1: {lessthanone_date_range_count}\")\n",
    "oneorless_date_range_count = len(lire[lire['date_range'] <= 1])\n",
    "print(f\"Number of records with a date range of <= 1: {oneorless_date_range_count}\")\n",
    "zerotoone_date_range_count = len(lire[(lire['date_range'] > 0) & (lire['date_range'] < 1)])\n",
    "print(f\"Number of records with a date range greater than 0 but less than 1: {zerotoone_date_range_count}\")\n",
    "lessthanzero_date_range_count = len(lire[lire['date_range'] < 0])\n",
    "print(f\"Number of records with a date range less than 0: {lessthanzero_date_range_count}\")\n"
   ]
  },
  {
   "cell_type": "markdown",
   "id": "c1274a9e-0a1c-4fae-be7e-04c8840e913f",
   "metadata": {},
   "source": [
    "### Identify records with a date range less than zero"
   ]
  },
  {
   "cell_type": "code",
   "execution_count": 27,
   "id": "68b9f135-616f-43e7-a81b-e1854792bb5a",
   "metadata": {},
   "outputs": [
    {
     "name": "stdout",
     "output_type": "stream",
     "text": [
      "        not_before  not_after  date_range\n",
      "451798       269.0      268.0        -1.0\n",
      "462437       116.0      108.0        -8.0\n",
      "464090       121.0      120.0        -1.0\n",
      "465423       227.0      223.0        -4.0\n",
      "476463         6.0       -6.0       -12.0\n",
      "478376        56.0       54.0        -2.0\n",
      "479829       269.0      268.0        -1.0\n",
      "488005       251.0      250.0        -1.0\n",
      "489086       135.0      134.0        -1.0\n",
      "491860        62.0       34.0       -28.0\n",
      "497267       214.0      211.0        -3.0\n",
      "497280       318.0      317.0        -1.0\n",
      "503087       162.0      161.0        -1.0\n",
      "503089       165.0      164.0        -1.0\n",
      "505630       110.0      109.0        -1.0\n",
      "505921       159.0      158.0        -1.0\n",
      "506024       159.0      158.0        -1.0\n",
      "506089       288.0      284.0        -4.0\n",
      "512472       218.0      205.0       -13.0\n",
      "513356       199.0      198.0        -1.0\n",
      "513406       116.0      115.0        -1.0\n",
      "516962       -26.0      -29.0        -3.0\n",
      "516963       -26.0      -29.0        -3.0\n",
      "521307       195.0      194.0        -1.0\n",
      "59045        -24.0      -29.0        -5.0\n",
      "177261        71.0       70.0        -1.0\n",
      "220010       251.0      201.0       -50.0\n",
      "405257       -30.0      -31.0        -1.0\n",
      "445032       171.0      130.0       -41.0\n"
     ]
    }
   ],
   "source": [
    "# Filter records where date_range is less than 0\n",
    "records_with_negative_date_range = lire[lire['date_range'] < 0]\n",
    "\n",
    "# Display only specific columns for the filtered records\n",
    "print(records_with_negative_date_range[['not_before', 'not_after', 'date_range']])"
   ]
  },
  {
   "cell_type": "markdown",
   "id": "c56fb9bc-9274-4386-9fd0-2316f0cd84cd",
   "metadata": {},
   "source": [
    "### Count number of inscriptions with date ranges *under* various thresholds"
   ]
  },
  {
   "cell_type": "code",
   "execution_count": 15,
   "id": "e8ccba6d-151c-4110-bcc1-49e993cdc078",
   "metadata": {},
   "outputs": [
    {
     "name": "stdout",
     "output_type": "stream",
     "text": [
      "Cumulative counts of inscriptions with date ranges under various thresholds:\n",
      "0-1 years: 8308\n",
      "0-10 years: 17580\n",
      "0-25 years: 25993\n",
      "0-50 years: 61113\n",
      "0-100 years: 128274\n",
      "0-200 years: 173925\n",
      "0-300 years: 181920\n"
     ]
    }
   ],
   "source": [
    "# Define the thresholds\n",
    "thresholds = [1, 10, 25, 50, 100, 200, 300]\n",
    "\n",
    "# Initialize an empty dictionary to store counts\n",
    "cumulative_counts = {}\n",
    "\n",
    "# Calculate counts for each threshold\n",
    "for threshold in thresholds:\n",
    "    count = len(lire[lire['date_range'] < threshold]) # counts are right-exclusive\n",
    "    cumulative_counts[threshold] = count\n",
    "\n",
    "# Display the counts\n",
    "print(\"Cumulative counts of inscriptions with date ranges under various thresholds:\")\n",
    "for threshold, count in cumulative_counts.items():\n",
    "    print(f\"0-{threshold} years: {count}\")"
   ]
  },
  {
   "cell_type": "markdown",
   "id": "6a232d70-6ade-46d7-93e6-4f6c6c5c9edf",
   "metadata": {},
   "source": [
    "# SPA on subsets of data with narrower date ranges"
   ]
  },
  {
   "cell_type": "markdown",
   "id": "16d532db-a0a0-42e6-899f-67ef7a209b27",
   "metadata": {},
   "source": [
    "## 100 years or less"
   ]
  },
  {
   "cell_type": "markdown",
   "id": "c9407fa8-b169-4f02-b578-898d93b3dc2b",
   "metadata": {},
   "source": [
    "Filter dataset to include only inscriptions with a date range of 100 years or less"
   ]
  },
  {
   "cell_type": "code",
   "execution_count": 16,
   "id": "e76c417c-ea4d-42c2-aa76-2def8f6bc73f",
   "metadata": {},
   "outputs": [],
   "source": [
    "filtered_lire = lire[lire['date_range'] <= 100]"
   ]
  },
  {
   "cell_type": "markdown",
   "id": "93499365-2222-4709-9842-67eb3b2eb4df",
   "metadata": {},
   "source": [
    "Run the SPA as above, but on the filtered dataset"
   ]
  },
  {
   "cell_type": "code",
   "execution_count": 17,
   "id": "6a0118e1-641f-4eb8-ac15-60ae5262437c",
   "metadata": {},
   "outputs": [],
   "source": [
    "# Define the resolution for the summed probability distribution\n",
    "resolution = 10\n",
    "\n",
    "# Initialize the summed probability distribution\n",
    "earliest_date = filtered_lire['not_before'].min()\n",
    "latest_date = filtered_lire['not_after'].max()\n",
    "\n",
    "# Create an array of zeros to hold the summed probabilities\n",
    "num_bins = int((latest_date - earliest_date) / resolution) + 1\n",
    "summed_prob = np.zeros(num_bins)\n",
    "\n",
    "# Loop through each inscription to update the summed probability distribution\n",
    "for index, row in filtered_lire.iterrows():\n",
    "    start = row['not_before']\n",
    "    end = row['not_after']\n",
    "    \n",
    "    start_idx = int((start - earliest_date) / resolution)\n",
    "    end_idx = int((end - earliest_date) / resolution)\n",
    "    \n",
    "    # Handle the zero-division case\n",
    "    try:\n",
    "        uniform_prob = 1.0 / (end_idx - start_idx + 1)\n",
    "    except ZeroDivisionError:\n",
    "        uniform_prob = 1  # or another default value\n",
    "\n",
    "    # Add this distribution to the overall summed distribution\n",
    "    summed_prob[start_idx : end_idx + 1] += uniform_prob\n"
   ]
  },
  {
   "cell_type": "markdown",
   "id": "498f6c1c-dde8-475b-bb4b-665d157c610c",
   "metadata": {},
   "source": [
    "Plot the summed probability distribution"
   ]
  },
  {
   "cell_type": "code",
   "execution_count": 18,
   "id": "262405af-4a29-455d-b445-ea56fd067133",
   "metadata": {},
   "outputs": [
    {
     "data": {
      "image/png": "[encoded data removed]",
      "text/plain": [
       "<Figure size 1200x600 with 1 Axes>"
      ]
     },
     "metadata": {},
     "output_type": "display_data"
    }
   ],
   "source": [
    "# Recalculate x_values to match summed_prob to avoid a ValueError: shape mismatch between them\n",
    "x_values = np.arange(earliest_date, earliest_date + resolution*num_bins, resolution)\n",
    "\n",
    "# Create the plot\n",
    "plt.figure(figsize=(12, 6))\n",
    "plt.bar(x_values, summed_prob, width=resolution, color='blue', alpha=0.7)\n",
    "\n",
    "# Add labels and title\n",
    "plt.xlabel('Date')\n",
    "plt.ylabel('Summed Probability')\n",
    "plt.title('Summed Probability Analysis of Roman Inscriptions with 100 year date range or less')\n",
    "\n",
    "# set axis limits and grid\n",
    "plt.xlim([-100, 600])\n",
    "plt.ylim([0, 7000])\n",
    "plt.grid(True)\n",
    "plt.xticks(np.arange(-100, 600, 50), rotation='vertical')  # Change 10 to the desired tick interval for the x-axis\n",
    "plt.yticks(np.arange(0, 7000, 500))  # Change 500 to the desired tick interval for the y-axis\n",
    "\n",
    "# Show the plot\n",
    "plt.show()"
   ]
  },
  {
   "cell_type": "code",
   "execution_count": null,
   "id": "3967f3fc-9774-4a7a-bf74-7d0b0a5a4dc0",
   "metadata": {},
   "outputs": [],
   "source": []
  }
 ],
 "metadata": {
  "kernelspec": {
   "display_name": "Python 3 (ipykernel)",
   "language": "python",
   "name": "python3"
  },
  "language_info": {
   "codemirror_mode": {
    "name": "ipython",
    "version": 3
   },
   "file_extension": ".py",
   "mimetype": "text/x-python",
   "name": "python",
   "nbconvert_exporter": "python",
   "pygments_lexer": "ipython3",
   "version": "3.11.4"
  }
 },
 "nbformat": 4,
 "nbformat_minor": 5
}
